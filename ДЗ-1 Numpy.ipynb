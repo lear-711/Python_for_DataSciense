{
 "cells": [
  {
   "cell_type": "code",
   "execution_count": 1,
   "id": "accepted-content",
   "metadata": {},
   "outputs": [],
   "source": [
    "import numpy as np"
   ]
  },
  {
   "cell_type": "markdown",
   "id": "quiet-sullivan",
   "metadata": {},
   "source": [
    "## Задание 1"
   ]
  },
  {
   "cell_type": "code",
   "execution_count": 14,
   "id": "damaged-thread",
   "metadata": {},
   "outputs": [
    {
     "data": {
      "text/plain": [
       "array([[ 1,  6],\n",
       "       [ 2,  8],\n",
       "       [ 3, 11],\n",
       "       [ 3, 10],\n",
       "       [ 1,  7]])"
      ]
     },
     "execution_count": 14,
     "metadata": {},
     "output_type": "execute_result"
    }
   ],
   "source": [
    "a = np.array([[ 1, 6], [2, 8], [3, 11], [3, 10], [1, 7]])\n",
    "a"
   ]
  },
  {
   "cell_type": "code",
   "execution_count": 15,
   "id": "eleven-server",
   "metadata": {},
   "outputs": [
    {
     "data": {
      "text/plain": [
       "array([2. , 8.4])"
      ]
     },
     "execution_count": 15,
     "metadata": {},
     "output_type": "execute_result"
    }
   ],
   "source": [
    "mean_a = a.mean(axis = 0)\n",
    "mean_a"
   ]
  },
  {
   "cell_type": "markdown",
   "id": "finite-uniform",
   "metadata": {},
   "source": [
    "## Задание 2"
   ]
  },
  {
   "cell_type": "code",
   "execution_count": 16,
   "id": "laden-filling",
   "metadata": {},
   "outputs": [
    {
     "data": {
      "text/plain": [
       "array([[-1. , -2.4],\n",
       "       [ 0. , -0.4],\n",
       "       [ 1. ,  2.6],\n",
       "       [ 1. ,  1.6],\n",
       "       [-1. , -1.4]])"
      ]
     },
     "execution_count": 16,
     "metadata": {},
     "output_type": "execute_result"
    }
   ],
   "source": [
    "a_centered = a - mean_a\n",
    "a_centered"
   ]
  },
  {
   "cell_type": "markdown",
   "id": "architectural-clause",
   "metadata": {},
   "source": [
    "## Задание 3"
   ]
  },
  {
   "cell_type": "code",
   "execution_count": 42,
   "id": "coated-holmes",
   "metadata": {},
   "outputs": [
    {
     "data": {
      "text/plain": [
       "8.0"
      ]
     },
     "execution_count": 42,
     "metadata": {},
     "output_type": "execute_result"
    }
   ],
   "source": [
    "a_centered=np.array(a_centered)\n",
    "v1 = a_centered[:, 0]\n",
    "v2 = a_centered[:, 1]\n",
    "a_centered_sp = np.dot(v1, v2)\n",
    "a_centered_sp"
   ]
  },
  {
   "cell_type": "code",
   "execution_count": 44,
   "id": "owned-relations",
   "metadata": {},
   "outputs": [
    {
     "data": {
      "text/plain": [
       "2.0"
      ]
     },
     "execution_count": 44,
     "metadata": {},
     "output_type": "execute_result"
    }
   ],
   "source": [
    "N = 5 # число наблюдений\n",
    "b = a_centered_sp/(N-1)\n",
    "b"
   ]
  },
  {
   "cell_type": "markdown",
   "id": "modern-coverage",
   "metadata": {},
   "source": [
    "## Задание 4"
   ]
  },
  {
   "cell_type": "code",
   "execution_count": 45,
   "id": "informed-strain",
   "metadata": {},
   "outputs": [
    {
     "data": {
      "text/plain": [
       "array([[1. , 2. ],\n",
       "       [2. , 4.3]])"
      ]
     },
     "execution_count": 45,
     "metadata": {},
     "output_type": "execute_result"
    }
   ],
   "source": [
    "np.cov(a.T)"
   ]
  },
  {
   "cell_type": "code",
   "execution_count": null,
   "id": "heard-singapore",
   "metadata": {},
   "outputs": [],
   "source": []
  }
 ],
 "metadata": {
  "kernelspec": {
   "display_name": "Python 3",
   "language": "python",
   "name": "python3"
  },
  "language_info": {
   "codemirror_mode": {
    "name": "ipython",
    "version": 3
   },
   "file_extension": ".py",
   "mimetype": "text/x-python",
   "name": "python",
   "nbconvert_exporter": "python",
   "pygments_lexer": "ipython3",
   "version": "3.8.5"
  }
 },
 "nbformat": 4,
 "nbformat_minor": 5
}
